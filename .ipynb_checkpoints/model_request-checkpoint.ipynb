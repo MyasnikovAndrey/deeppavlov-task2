{
 "cells": [
  {
   "cell_type": "code",
   "execution_count": 64,
   "id": "82468096",
   "metadata": {},
   "outputs": [
    {
     "name": "stdout",
     "output_type": "stream",
     "text": [
      "Type output ->  <class 'str'>\n",
      "[[\"a library for NLP and dialog systems\"],[14],[1.0]]\n"
     ]
    }
   ],
   "source": [
    "import os\n",
    "\n",
    "command = 'curl -X POST \"https://3beb-109-202-60-123.eu.ngrok.io/model\" -H \"accept: application/json\" -H \"Content-Type: application/json\" -d \"{\\\\\"context_raw\\\\\":[\\\\\"DeepPavlov is a library for NLP and dialog systems.\\\\\"], \\\\\"question_raw\\\\\":[\\\\\"What is DeepPavlov?\\\\\"]}'\n",
    "pipe = os.popen(command)\n",
    "output = str(pipe.read())\n",
    "\n",
    "print(\"Type output -> \", type(output))\n",
    "print(output)"
   ]
  },
  {
   "cell_type": "code",
   "execution_count": null,
   "id": "cbb1e0ac",
   "metadata": {},
   "outputs": [],
   "source": []
  }
 ],
 "metadata": {
  "kernelspec": {
   "display_name": "Python 3 (ipykernel)",
   "language": "python",
   "name": "python3"
  },
  "language_info": {
   "codemirror_mode": {
    "name": "ipython",
    "version": 3
   },
   "file_extension": ".py",
   "mimetype": "text/x-python",
   "name": "python",
   "nbconvert_exporter": "python",
   "pygments_lexer": "ipython3",
   "version": "3.7.0"
  }
 },
 "nbformat": 4,
 "nbformat_minor": 5
}
